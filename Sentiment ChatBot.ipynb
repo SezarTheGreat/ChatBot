{
 "cells": [
  {
   "cell_type": "code",
   "execution_count": 11,
   "id": "2fe44faf-9017-41cc-8a13-17edf5ab4f09",
   "metadata": {},
   "outputs": [],
   "source": [
    "#Importing the required libraries\n",
    "import nltk\n",
    "import random\n",
    "import pandas as pd\n",
    "from sklearn.model_selection import train_test_split\n",
    "from sklearn.naive_bayes import MultinomialNB\n",
    "from sklearn.feature_extraction.text import TfidfVectorizer\n",
    "from sklearn.metrics import accuracy_score, classification_report\n",
    "from textblob import TextBlob\n",
    "import matplotlib.pyplot as plt\n",
    "import numpy as np\n",
    "from nltk.sentiment.vader import SentimentIntensityAnalyzer"
   ]
  },
  {
   "cell_type": "code",
   "execution_count": 13,
   "id": "d1ab234b-36f9-4537-94f4-26625320ec63",
   "metadata": {},
   "outputs": [
    {
     "name": "stderr",
     "output_type": "stream",
     "text": [
      "[nltk_data] Downloading package punkt to\n",
      "[nltk_data]     C:\\Users\\LENOVO\\AppData\\Roaming\\nltk_data...\n",
      "[nltk_data]   Package punkt is already up-to-date!\n",
      "[nltk_data] Downloading package stopwords to\n",
      "[nltk_data]     C:\\Users\\LENOVO\\AppData\\Roaming\\nltk_data...\n",
      "[nltk_data]   Package stopwords is already up-to-date!\n",
      "[nltk_data] Downloading package vader_lexicon to\n",
      "[nltk_data]     C:\\Users\\LENOVO\\AppData\\Roaming\\nltk_data...\n",
      "[nltk_data]   Package vader_lexicon is already up-to-date!\n"
     ]
    },
    {
     "data": {
      "text/plain": [
       "True"
      ]
     },
     "execution_count": 13,
     "metadata": {},
     "output_type": "execute_result"
    }
   ],
   "source": [
    "#Required downloads for the nltk library to run.\n",
    "nltk.download('punkt')\n",
    "nltk.download('stopwords')\n",
    "nltk.download('vader_lexicon')"
   ]
  },
  {
   "cell_type": "code",
   "execution_count": 15,
   "id": "14c19dea-764a-4a12-8c8a-f548ebc3f040",
   "metadata": {},
   "outputs": [],
   "source": [
    "# ------------------------ 1. Sentiment Analysis Function ---------------------\n",
    "def analyze_sentiment(text):\n",
    "    analyzer = SentimentIntensityAnalyzer()\n",
    "    scores = analyzer.polarity_scores(text)\n",
    "    compound_score = scores['compound']\n",
    "\n",
    "    if compound_score >= 0.05:\n",
    "        return \"Positive\"\n",
    "    elif compound_score <= -0.05:\n",
    "        return \"Negative\"\n",
    "    else:\n",
    "        return \"Neutral\""
   ]
  },
  {
   "cell_type": "code",
   "execution_count": 17,
   "id": "354e11fe-fdba-48e4-a44b-f8d0daf0d632",
   "metadata": {},
   "outputs": [],
   "source": [
    "# ------------------------ 2. Enhanced Chatbot Response Function--------------------\n",
    "def chatbot_response(user_input, sentiment):\n",
    "    user_input = user_input.lower()\n",
    "\n",
    "    positive_terms = [\n",
    "        \"happy\", \"joyful\", \"great\", \"excellent\", \"fantastic\", \"amazing\", \"wonderful\", \"good\", \"love\", \"like\", \"excited\",\n",
    "        \"delighted\", \"pleased\", \"cheerful\", \"content\", \"blissful\", \"ecstatic\", \"radiant\", \"optimistic\", \"positive\",\n",
    "        \"superb\", \"terrific\", \"outstanding\", \"brilliant\", \"marvelous\", \"fabulous\", \"awesome\", \"cool\", \"glad\",\n",
    "        \"fortunate\", \"lucky\", \"satisfied\", \"thankful\", \"grateful\", \"peaceful\", \"calm\", \"serene\", \"friendly\", \"kind\",\n",
    "        \"generous\", \"helpful\", \"supportive\", \"encouraging\", \"hopeful\", \"vibrant\", \"energetic\", \"passionate\",\n",
    "        \"enthusiastic\", \"lively\", \"spirited\", \"vibrant\", \"thrilled\", \"elated\", \"uplifted\", \"smiling\", \"laughing\",\n",
    "        \"charming\", \"lovely\", \"adorable\", \"cute\", \"sweet\", \"precious\", \"graceful\", \"elegant\", \"smooth\", \"easy\", \"fun\",\n",
    "        \"amusing\", \"entertaining\", \"enjoyable\", \"relaxing\", \"restful\", \"comfy\", \"cozy\", \"warm\", \"bright\", \"clear\",\n",
    "        \"sunny\", \"safe\", \"secure\", \"protected\", \"confident\", \"strong\", \"powerful\", \"successful\", \"victorious\", \"triumphant\",\n",
    "        \"smart\", \"clever\", \"intelligent\", \"wise\", \"creative\", \"innovative\", \"talented\", \"skillful\", \"capable\",\n",
    "        \"effective\", \"efficient\", \"reliable\", \"trustworthy\", \"genuine\", \"authentic\", \"real\", \"true\", \"honest\",\n",
    "        \"fair\", \"just\", \"reasonable\", \"logical\", \"practical\", \"useful\", \"valuable\", \"significant\", \"meaningful\"\n",
    "    ]\n",
    "\n",
    "    negative_terms = [\n",
    "        \"sad\", \"unhappy\", \"bad\", \"terrible\", \"awful\", \"horrible\", \"hate\", \"dislike\", \"angry\", \"frustrated\",\n",
    "        \"depressed\", \"miserable\", \"gloomy\", \"down\", \"pessimistic\", \"negative\", \"poor\", \"inferior\", \"dreadful\",\n",
    "        \"appalling\", \"atrocious\", \"offensive\", \"repulsive\", \"disgusting\", \"nasty\", \"vile\", \"sick\", \"ill\",\n",
    "        \"worried\", \"anxious\", \"nervous\", \"scared\", \"frightened\", \"terrified\", \"fearful\", \"helpless\", \"hopeless\",\n",
    "        \"useless\", \"worthless\", \"inadequate\", \"insufficient\", \"deficient\", \"lacking\", \"weak\", \"feeble\",\n",
    "        \"fragile\", \"vulnerable\", \"exhausted\", \"tired\", \"drained\", \"empty\", \"bored\", \"dull\", \"tedious\", \"monotonous\",\n",
    "        \"lonely\", \"isolated\", \"alone\", \"abandoned\", \"rejected\", \"neglected\", \"ignored\", \"unloved\", \"bitter\",\n",
    "        \"resentful\", \"jealous\", \"envious\", \"suspicious\", \"cynical\", \"skeptical\", \"disappointed\", \"let down\",\n",
    "        \"defeated\", \"failed\", \"unsuccessful\", \"lost\", \"wrong\", \"mistaken\", \"incorrect\", \"false\", \"untrue\",\n",
    "        \"dishonest\", \"unfair\", \"unjust\", \"biased\", \"irrational\", \"illogical\", \"impractical\", \"useless\",\n",
    "        \"harmful\", \"dangerous\", \"risky\", \"threatening\", \"violent\", \"cruel\", \"brutal\", \"harsh\", \"severe\", \"strict\"\n",
    "    ]\n",
    "\n",
    "    if \"hello\" in user_input or \"hi\" in user_input:\n",
    "        return \"Hello there! How can I help you?\"\n",
    "    elif \"how are you\" in user_input:\n",
    "        return \"I'm doing well, thanks for asking!\"\n",
    "    elif \"thank you\" in user_input:\n",
    "        return \"You're welcome!\"\n",
    "    elif \"goodbye\" in user_input or \"bye\" in user_input:\n",
    "        return \"Goodbye! Have a great day.\"\n",
    "    elif any(term in user_input for term in positive_terms):\n",
    "        if sentiment == \"Positive\":\n",
    "            return \"That's awesome! I'm glad you're feeling great.\"\n",
    "        elif sentiment == \"Negative\":\n",
    "            return \"That's great that your using positive terms, but I sense you feel down.\"\n",
    "        else:\n",
    "             return \"Nice to see you use a positive term, how can I help\"\n",
    "\n",
    "    elif any(term in user_input for term in negative_terms):\n",
    "        if sentiment == \"Negative\":\n",
    "            return \"I'm sorry you're feeling that way. Is there anything I can do to help?\"\n",
    "        elif sentiment == \"Positive\":\n",
    "            return \"That's strange as you sound positive, but use negative words.\"\n",
    "        else:\n",
    "            return \"Is there a problem I can help with?\"\n",
    "    elif sentiment == \"Positive\":\n",
    "        return \"That's great to hear!\"\n",
    "    elif sentiment == \"Negative\":\n",
    "        return \"I'm sorry to hear that.\"\n",
    "    else:\n",
    "       return \"I understand. How can I help you?\""
   ]
  },
  {
   "cell_type": "code",
   "execution_count": 19,
   "id": "10a1dc19-8bc6-47e8-829b-0476fa8b3bda",
   "metadata": {},
   "outputs": [],
   "source": [
    "# ------------------------ 3. Main Chatbot Loop -------------------------------\n",
    "def chatbot():\n",
    "    print(\"Chatbot: Hello! I'm ready to chat. Type 'exit' to end the conversation.\")\n",
    "    sentiment_history = []\n",
    "    prompt_count = 0\n",
    "\n",
    "    while True:\n",
    "        user_input = input(\"You: \")\n",
    "        if user_input.lower() == \"exit\":\n",
    "           print(\"Chatbot: Goodbye!\")\n",
    "           break\n",
    "\n",
    "        sentiment = analyze_sentiment(user_input)\n",
    "        sentiment_history.append(sentiment)\n",
    "\n",
    "        response = chatbot_response(user_input, sentiment)\n",
    "        print(f\"Chatbot ({sentiment}): {response}\")\n",
    "\n",
    "        prompt_count += 1\n",
    "        if prompt_count % 10 == 0 and prompt_count > 0:  # Changed condition to 10\n",
    "            plot_sentiment_distribution(sentiment_history, prompt_count)"
   ]
  },
  {
   "cell_type": "code",
   "execution_count": 21,
   "id": "0bb82f4d-d0f7-4349-8e99-1d5b2a7ca370",
   "metadata": {},
   "outputs": [],
   "source": [
    "# ------------------------ 4. Plotting Function -------------------------------\n",
    "def plot_sentiment_distribution(sentiment_history, prompt_count):\n",
    "    sentiments = ['Positive', 'Negative', 'Neutral']\n",
    "    sentiment_counts = {sentiment: sentiment_history.count(sentiment) for sentiment in sentiments}\n",
    "    values = list(sentiment_counts.values())\n",
    "\n",
    "    plt.figure(figsize=(8, 6))\n",
    "    bars = plt.bar(sentiments, values, color=['green', 'red', 'gray'])\n",
    "    plt.title(f'Sentiment Distribution After {prompt_count} Prompts')\n",
    "    plt.ylabel('Count')\n",
    "    plt.xlabel('Sentiment')\n",
    "\n",
    "    # Adding the count label on top of each bar\n",
    "    for bar in bars:\n",
    "        yval = bar.get_height()\n",
    "        plt.text(bar.get_x() + bar.get_width()/2, yval, int(yval), ha='center', va='bottom')\n",
    "\n",
    "    plt.show()\n",
    "    # if the plots are interfering add plt.close() to clear plots\n",
    "    #plt.close()"
   ]
  },
  {
   "cell_type": "code",
   "execution_count": null,
   "id": "64494f9d-041d-4edc-8844-12b15cbcea48",
   "metadata": {},
   "outputs": [
    {
     "name": "stdout",
     "output_type": "stream",
     "text": [
      "Chatbot: Hello! I'm ready to chat. Type 'exit' to end the conversation.\n"
     ]
    },
    {
     "name": "stdin",
     "output_type": "stream",
     "text": [
      "You:  Hi how are you doing\n"
     ]
    },
    {
     "name": "stdout",
     "output_type": "stream",
     "text": [
      "Chatbot (Neutral): Hello there! How can I help you?\n"
     ]
    },
    {
     "name": "stdin",
     "output_type": "stream",
     "text": [
      "You:  I am good\n"
     ]
    },
    {
     "name": "stdout",
     "output_type": "stream",
     "text": [
      "Chatbot (Positive): That's awesome! I'm glad you're feeling great.\n"
     ]
    },
    {
     "name": "stdin",
     "output_type": "stream",
     "text": [
      "You:  I am feeling very optimistic.\n"
     ]
    },
    {
     "name": "stdout",
     "output_type": "stream",
     "text": [
      "Chatbot (Positive): That's awesome! I'm glad you're feeling great.\n"
     ]
    },
    {
     "name": "stdin",
     "output_type": "stream",
     "text": [
      "You:  I am feeling also hopeless.\n"
     ]
    },
    {
     "name": "stdout",
     "output_type": "stream",
     "text": [
      "Chatbot (Negative): I'm sorry you're feeling that way. Is there anything I can do to help?\n"
     ]
    },
    {
     "name": "stdin",
     "output_type": "stream",
     "text": [
      "You:  Yes can you tell me something that is positive itself.\n"
     ]
    },
    {
     "name": "stdout",
     "output_type": "stream",
     "text": [
      "Chatbot (Positive): Hello there! How can I help you?\n"
     ]
    },
    {
     "name": "stdin",
     "output_type": "stream",
     "text": [
      "You:  Hi I am very bad at maths.\n"
     ]
    },
    {
     "name": "stdout",
     "output_type": "stream",
     "text": [
      "Chatbot (Negative): Hello there! How can I help you?\n"
     ]
    },
    {
     "name": "stdin",
     "output_type": "stream",
     "text": [
      "You:  Can you help me be optimistic\n"
     ]
    },
    {
     "name": "stdout",
     "output_type": "stream",
     "text": [
      "Chatbot (Positive): That's awesome! I'm glad you're feeling great.\n"
     ]
    },
    {
     "name": "stdin",
     "output_type": "stream",
     "text": [
      "You:  I am feeling for that vile man \n"
     ]
    },
    {
     "name": "stdout",
     "output_type": "stream",
     "text": [
      "Chatbot (Negative): I'm sorry you're feeling that way. Is there anything I can do to help?\n"
     ]
    },
    {
     "name": "stdin",
     "output_type": "stream",
     "text": [
      "You:  I am also feeling that the man in the bus was very generous.\n"
     ]
    },
    {
     "name": "stdout",
     "output_type": "stream",
     "text": [
      "Chatbot (Positive): That's awesome! I'm glad you're feeling great.\n"
     ]
    },
    {
     "name": "stdin",
     "output_type": "stream",
     "text": [
      "You:  I also feel that the world holds so much promise.\n"
     ]
    },
    {
     "name": "stdout",
     "output_type": "stream",
     "text": [
      "Chatbot (Positive): That's great to hear!\n"
     ]
    },
    {
     "data": {
      "image/png": "[encoded data removed]",
      "text/plain": [
       "<Figure size 800x600 with 1 Axes>"
      ]
     },
     "metadata": {},
     "output_type": "display_data"
    }
   ],
   "source": [
    "if __name__ == \"__main__\":\n",
    "    chatbot()"
   ]
  }
 ],
 "metadata": {
  "kernelspec": {
   "display_name": "Python [conda env:base] *",
   "language": "python",
   "name": "conda-base-py"
  },
  "language_info": {
   "codemirror_mode": {
    "name": "ipython",
    "version": 3
   },
   "file_extension": ".py",
   "mimetype": "text/x-python",
   "name": "python",
   "nbconvert_exporter": "python",
   "pygments_lexer": "ipython3",
   "version": "3.12.7"
  }
 },
 "nbformat": 4,
 "nbformat_minor": 5
}
